{
 "cells": [
  {
   "cell_type": "code",
   "execution_count": 1,
   "metadata": {
    "collapsed": true
   },
   "outputs": [],
   "source": [
    "## TODO: make this R notebook\n"
   ]
  },
  {
   "cell_type": "code",
   "execution_count": 2,
   "metadata": {},
   "outputs": [
    {
     "ename": "SyntaxError",
     "evalue": "invalid syntax (<ipython-input-2-3e9cfc5ae37b>, line 16)",
     "output_type": "error",
     "traceback": [
      "\u001b[0;36m  File \u001b[0;32m\"<ipython-input-2-3e9cfc5ae37b>\"\u001b[0;36m, line \u001b[0;32m16\u001b[0m\n\u001b[0;31m    house_1 <- refit$data$house_1.csv\u001b[0m\n\u001b[0m                    ^\u001b[0m\n\u001b[0;31mSyntaxError\u001b[0m\u001b[0;31m:\u001b[0m invalid syntax\n"
     ]
    }
   ],
   "source": [
    "# first install Data Package library (datapkg) found here:\n",
    "# https://github.com/ropenscilabs/datapkg\n",
    "\n",
    "# depends on having run `make` to download the data\n",
    "\n",
    "library(datapkg)\n",
    "\n",
    "# load dataset into memory from remote source\n",
    "\n",
    "refit <- datapkg_read('https://s3-eu-west-1.amazonaws.com/frictionlessdata.io/pilots/pilot-dm4t/datapackage.json')\n",
    "\n",
    "# or load dataset into memory from local source\n",
    "\n",
    "# refit <- datapkg_read()\n",
    "\n",
    "house_1 <- refit$data$house_1.csv\n",
    "house_2 <- refit$data$house_2.csv\n",
    "start <- '2013-10-09'\n",
    "end <- '2013-10-10'\n",
    "\n",
    "# filter dates\n",
    "\n",
    "filtered_time_1 <- house_1$Time[house_1$Time > start & house_1$Time < end]\n",
    "filtered_agg_1 <- house_1$Aggregate[house_1$Time > start & house_1$Time < end]\n",
    "\n",
    "filtered_time_2 <- house_2$Time[house_2$Time > start & house_2$Time < end]\n",
    "filtered_agg_2 <- house_2$Aggregate[house_2$Time > start & house_2$Time < end]\n",
    "\n",
    "# plot subsets of two house measurements\n",
    "\n",
    "plot(filtered_time_1, filtered_agg_1, type='l', col=\"red\")\n",
    "lines(filtered_time_2, filtered_agg_2, type='l', col=\"green\")"
   ]
  },
  {
   "cell_type": "code",
   "execution_count": null,
   "metadata": {
    "collapsed": true
   },
   "outputs": [],
   "source": []
  }
 ],
 "metadata": {
  "kernelspec": {
   "display_name": "Python 3",
   "language": "python",
   "name": "python3"
  },
  "language_info": {
   "codemirror_mode": {
    "name": "ipython",
    "version": 3
   },
   "file_extension": ".py",
   "mimetype": "text/x-python",
   "name": "python",
   "nbconvert_exporter": "python",
   "pygments_lexer": "ipython3",
   "version": "3.6.1"
  }
 },
 "nbformat": 4,
 "nbformat_minor": 2
}
