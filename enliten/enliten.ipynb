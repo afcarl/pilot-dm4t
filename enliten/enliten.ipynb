{
 "cells": [
  {
   "cell_type": "code",
   "execution_count": 1,
   "metadata": {
    "collapsed": true
   },
   "outputs": [],
   "source": [
    "import datapackage"
   ]
  },
  {
   "cell_type": "code",
   "execution_count": 2,
   "metadata": {
    "collapsed": true
   },
   "outputs": [],
   "source": [
    "dp = datapackage.DataPackage('../_datasets/enliten/datapackage.json')\n",
    "# dp = datapackage.DataPackage('http://data.frictionlessdata.io.s3.amazonaws.com/pilot-dm4t/datasets/enliten/datapackage.json')"
   ]
  },
  {
   "cell_type": "code",
   "execution_count": 3,
   "metadata": {
    "scrolled": true
   },
   "outputs": [
    {
     "name": "stdout",
     "output_type": "stream",
     "text": [
      "_id,device,sensor,humidity,timestamp\r",
      "\r\n",
      "1,1,4,33.0,2013-03-15 00:29:11\r",
      "\r\n",
      "2,1,4,33.0,2013-03-15 00:38:56\r",
      "\r\n",
      "3,1,4,33.0,2013-03-15 00:39:08\r",
      "\r\n",
      "4,1,4,33.0,2013-03-15 00:40:05\r",
      "\r\n",
      "5,1,4,33.0,2013-03-15 00:40:24\r",
      "\r\n",
      "6,1,4,33.0,2013-03-15 00:41:08\r",
      "\r\n",
      "7,1,4,33.0,2013-03-15 00:41:17\r",
      "\r\n",
      "8,1,4,33.0,2013-03-15 00:42:04\r",
      "\r\n",
      "9,1,4,33.0,2013-03-15 00:42:16\r",
      "\r\n"
     ]
    }
   ],
   "source": [
    "!head ../_datasets/enliten/data/humidity.csv"
   ]
  },
  {
   "cell_type": "code",
   "execution_count": 4,
   "metadata": {},
   "outputs": [
    {
     "data": {
      "text/plain": [
       "'pir'"
      ]
     },
     "execution_count": 4,
     "metadata": {},
     "output_type": "execute_result"
    }
   ],
   "source": [
    "dp.resources[0].descriptor['name']"
   ]
  },
  {
   "cell_type": "code",
   "execution_count": 5,
   "metadata": {},
   "outputs": [
    {
     "data": {
      "text/plain": [
       "{'count_of_rows': 10000,\n",
       " 'dialect': {'delimiter': ',',\n",
       "  'doubleQuote': True,\n",
       "  'lineTerminator': '\\r\\n',\n",
       "  'quoteChar': '\"',\n",
       "  'skipInitialSpace': False},\n",
       " 'encoding': 'utf-8',\n",
       " 'format': 'csv',\n",
       " 'hash': '0a393d60612950c0816e46ce4f77d4a8',\n",
       " 'name': 'pir',\n",
       " 'path': 'data/pir.csv',\n",
       " 'schema': {'fields': [{'name': '_id', 'type': 'integer'},\n",
       "   {'name': 'device', 'type': 'integer'},\n",
       "   {'name': 'event', 'type': 'boolean'},\n",
       "   {'format': 'fmt:%Y-%m-%d %H:%M:%S',\n",
       "    'name': 'timestamp',\n",
       "    'type': 'datetime'},\n",
       "   {'name': 'sensor', 'type': 'integer'}]},\n",
       " 'table': 'pir'}"
      ]
     },
     "execution_count": 5,
     "metadata": {},
     "output_type": "execute_result"
    }
   ],
   "source": [
    "dp.resources[0].descriptor"
   ]
  },
  {
   "cell_type": "code",
   "execution_count": 6,
   "metadata": {
    "collapsed": true
   },
   "outputs": [],
   "source": [
    "rows = dp.resources[0].iter()"
   ]
  },
  {
   "cell_type": "code",
   "execution_count": 7,
   "metadata": {},
   "outputs": [
    {
     "data": {
      "text/plain": [
       "{'_id': 1,\n",
       " 'device': 1,\n",
       " 'event': True,\n",
       " 'sensor': 2,\n",
       " 'timestamp': datetime.datetime(2013, 3, 9, 5, 51, 10)}"
      ]
     },
     "execution_count": 7,
     "metadata": {},
     "output_type": "execute_result"
    }
   ],
   "source": [
    "next(rows)"
   ]
  },
  {
   "cell_type": "code",
   "execution_count": 8,
   "metadata": {
    "collapsed": true
   },
   "outputs": [],
   "source": [
    "r = filter(lambda x: x['timestamp'].year == 2013 and x['timestamp'].month == 5, rows)"
   ]
  },
  {
   "cell_type": "code",
   "execution_count": 9,
   "metadata": {},
   "outputs": [
    {
     "ename": "StopIteration",
     "evalue": "",
     "output_type": "error",
     "traceback": [
      "\u001b[0;31m---------------------------------------------------------------------------\u001b[0m",
      "\u001b[0;31mStopIteration\u001b[0m                             Traceback (most recent call last)",
      "\u001b[0;32m<ipython-input-9-0b5056469c9c>\u001b[0m in \u001b[0;36m<module>\u001b[0;34m()\u001b[0m\n\u001b[0;32m----> 1\u001b[0;31m \u001b[0mnext\u001b[0m\u001b[0;34m(\u001b[0m\u001b[0mr\u001b[0m\u001b[0;34m)\u001b[0m\u001b[0;34m\u001b[0m\u001b[0m\n\u001b[0m",
      "\u001b[0;31mStopIteration\u001b[0m: "
     ]
    }
   ],
   "source": [
    "next(r)"
   ]
  },
  {
   "cell_type": "code",
   "execution_count": null,
   "metadata": {},
   "outputs": [],
   "source": [
    "next(r)"
   ]
  },
  {
   "cell_type": "code",
   "execution_count": null,
   "metadata": {},
   "outputs": [],
   "source": [
    "next(r)"
   ]
  },
  {
   "cell_type": "code",
   "execution_count": null,
   "metadata": {
    "collapsed": true
   },
   "outputs": [],
   "source": []
  }
 ],
 "metadata": {
  "kernelspec": {
   "display_name": "Python 3",
   "language": "python",
   "name": "python3"
  },
  "language_info": {
   "codemirror_mode": {
    "name": "ipython",
    "version": 3
   },
   "file_extension": ".py",
   "mimetype": "text/x-python",
   "name": "python",
   "nbconvert_exporter": "python",
   "pygments_lexer": "ipython3",
   "version": "3.6.1"
  }
 },
 "nbformat": 4,
 "nbformat_minor": 2
}
