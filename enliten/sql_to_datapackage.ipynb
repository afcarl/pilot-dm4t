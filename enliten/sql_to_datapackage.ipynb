{
 "cells": [
  {
   "cell_type": "code",
   "execution_count": 9,
   "metadata": {
    "collapsed": false,
    "deletable": true,
    "editable": true
   },
   "outputs": [
    {
     "data": {
      "text/plain": [
       "Storage <Engine(mysql://root@localhost/enliten)/None>"
      ]
     },
     "execution_count": 9,
     "metadata": {},
     "output_type": "execute_result"
    }
   ],
   "source": [
    "# https://github.com/frictionlessdata/datapackage-py\n",
    "\n",
    "from datapackage import pull_datapackage\n",
    "from sqlalchemy import create_engine\n",
    "\n",
    "engine = create_engine('mysql://root@localhost/enliten')\n",
    "\n",
    "# Push\n",
    "pull_datapackage(\n",
    "    descriptor='enliten-datapackage/datapackage.json',\n",
    "    name=\"enliten-datapackage\",\n",
    "    backend='sql',\n",
    "    engine=engine)"
   ]
  },
  {
   "cell_type": "code",
   "execution_count": null,
   "metadata": {
    "collapsed": true
   },
   "outputs": [],
   "source": [
    "# Data Package created is not valid: https://github.com/frictionlessdata/jsontableschema-sql-py/issues/52\n",
    "\n",
    "# TODO manually modify datapackage.json\n",
    "# TODO add name \"users\" to resource with path \"users.csv\"\n",
    "# TODO add name \"groups\" to resource with path \"groups.csv\"\n",
    "# TODO replace \"null\" resource references with names as above"
   ]
  }
 ],
 "metadata": {
  "kernelspec": {
   "display_name": "Python 3",
   "language": "python",
   "name": "python3"
  },
  "language_info": {
   "codemirror_mode": {
    "name": "ipython",
    "version": 3
   },
   "file_extension": ".py",
   "mimetype": "text/x-python",
   "name": "python",
   "nbconvert_exporter": "python",
   "pygments_lexer": "ipython3",
   "version": "3.5.2"
  }
 },
 "nbformat": 4,
 "nbformat_minor": 2
}
